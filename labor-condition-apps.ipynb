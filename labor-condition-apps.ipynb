{
 "cells": [
  {
   "cell_type": "markdown",
   "metadata": {},
   "source": [
    "# Labor Condition Application Scraper\n",
    "Extract compensation data from LCA form for Top Accounting Firms"
   ]
  },
  {
   "cell_type": "code",
   "execution_count": 1,
   "metadata": {},
   "outputs": [],
   "source": [
    "import csv\n",
    "import requests\n",
    "from datetime import datetime\n",
    "from bs4 import BeautifulSoup"
   ]
  },
  {
   "cell_type": "code",
   "execution_count": 2,
   "metadata": {},
   "outputs": [],
   "source": [
    "urls = (\n",
    "    'https://h1bsalary.online/index.php?searchtext=DELOITTE++TOUCHE+LLP&year=&minsalary=&state=&worksite_city=&job_title=',\n",
    "    'https://h1bsalary.online/search?searchtext=GRANT+THORNTON+LLP&year=&minsalary=&state=&worksite_city=&job_title=',\n",
    "    'https://h1bsalary.online/search?searchtext=PRICEWATERHOUSECOOPERS+LLP&year=&minsalary=&state=&worksite_city=&job_title=',\n",
    "    'https://h1bsalary.online/index.php?searchtext=PRICEWATERHOUSECOOPERS+ADVISORY+SERVICES+LLC&year=&minsalary=&state=&worksite_city=&job_title=',\n",
    "    \"https://h1bsalary.online/index.php?searchtext=PRICEWATERHOUSECOOPERS+CORPORATE+FINANCE+LLC&year=&minsalary=&state=&worksite_city=&job_title=\",\n",
    "    'https://h1bsalary.online/index.php?searchtext=DELOITTE+CONSULTING+LLP&year=&minsalary=&state=&worksite_city=&job_title=',\n",
    "    'https://h1bsalary.online/index.php?searchtext=DELOITTE+TAX+LLP&year=&minsalary=&state=&worksite_city=&job_title=',\n",
    "    'https://h1bsalary.online/index.php?searchtext=DELOITTE+AMP%3B+TOUCHE+LLP&year=&minsalary=&state=&worksite_city=&job_title=',\n",
    "    'https://h1bsalary.online/index.php?searchtext=DELOITTE+TRANSACTIONS+AND+BUSINESS+ANALYTICS+LLP&year=&minsalary=&state=&worksite_city=&job_title=',\n",
    "    'https://h1bsalary.online/index.php?searchtext=DELOITTE+SERVICES+LP&year=&minsalary=&state=&worksite_city=&job_title=',\n",
    "    'https://h1bsalary.online/index.php?searchtext=KPMG+LLP&year=&minsalary=&state=&worksite_city=&job_title=',\n",
    "    'https://h1bsalary.online/index.php?searchtext=BDO+USA+LLP&year=&minsalary=&state=&worksite_city=&job_title=',\n",
    "    'https://h1bsalary.online/index.php?searchtext=RSM+US+LLP&year=&minsalary=&state=&worksite_city=&job_title=',\n",
    "    'https://h1bsalary.online/index.php?searchtext=ERNST++YOUNG+US+LLP&year=&minsalary=&state=&worksite_city=&job_title=',\n",
    "    'https://h1bsalary.online/index.php?searchtext=ERNST++YOUNG+LLP&year=&minsalary=&state=&worksite_city=&job_title=',\n",
    "    'https://h1bsalary.online/index.php?searchtext=ERNST+AMP%3B+YOUNG+US+LLP&year=&minsalary=&state=&worksite_city=&job_title=',\n",
    "    'https://h1bsalary.online/index.php?searchtext=CLIFTONLARSONALLEN+LLP&year=&minsalary=&state=&worksite_city=&job_title=',\n",
    "    'https://h1bsalary.online/index.php?searchtext=COHNREZNICK+LLP&year=&minsalary=&state=&worksite_city=&job_title=',\n",
    "    'https://h1bsalary.online/index.php?searchtext=COHNREZNICK+CAPITAL+MARKETS&year=&minsalary=&state=&worksite_city=&job_title=',\n",
    "    'https://h1bsalary.online/index.php?searchtext=COHNREZNICK+CAPITAL+MARKETS+SECURITIES+LLC&year=&minsalary=&state=&worksite_city=&job_title=',\n",
    "    'https://h1bsalary.online/index.php?searchtext=BAKER+TILLY+VIRCHOW+KRAUSE+LLP&year=&minsalary=&state=&worksite_city=&job_title=',\n",
    "    'https://h1bsalary.online/index.php?searchtext=BKD+LLP&year=&minsalary=&state=&worksite_city=&job_title=',\n",
    "    'https://h1bsalary.online/index.php?searchtext=CROWE+LLP&year=&minsalary=&state=&worksite_city=&job_title=',\n",
    "    'https://h1bsalary.online/index.php?searchtext=CBIZ+ACCOUNTING+TAX++ADVISORY+LLC&year=&minsalary=&state=&worksite_city=&job_title=',\n",
    "    'https://h1bsalary.online/index.php?searchtext=MOSS+ADAMS+LLP&year=&minsalary=&state=&worksite_city=&job_title=',\n",
    "    'https://h1bsalary.online/index.php?searchtext=DIXON+HUGHES+GOODMAN+LLP&year=&minsalary=&state=&worksite_city=&job_title='\n",
    ")\n"
   ]
  },
  {
   "cell_type": "code",
   "execution_count": 3,
   "metadata": {},
   "outputs": [],
   "source": [
    "def extract_data(url):\n",
    "    \"\"\"Extract and return LCA data from website\"\"\"\n",
    "    response = requests.get(url)\n",
    "    soup = BeautifulSoup(response.text, 'html.parser')\n",
    "    rows = soup.find_all('div', 'panel-body')\n",
    "\n",
    "    headers = rows[0:4]\n",
    "    records = rows[4:]\n",
    "\n",
    "    data = []\n",
    "    for record in records:\n",
    "        this = {}\n",
    "        for p in record.find_all('p'):\n",
    "            try:\n",
    "                kv_split = p.text.split(': ')\n",
    "                # handle multiple title values\n",
    "                key = kv_split[0].title().replace(' ', '')\n",
    "                val = (' - '.join(kv_split[1:])).strip()\n",
    "                # standardize keys\n",
    "                if key == 'WorksiteCity':\n",
    "                    key = 'WorkSite'\n",
    "                if key == 'Status':\n",
    "                    key = 'CaseStatus'\n",
    "\n",
    "                # get url of more info link\n",
    "                if key == 'MoreInfo':\n",
    "                    val = 'https://h1bsalary.online/' + p.a['href'][1:]\n",
    "\n",
    "                this[key] = val.strip()\n",
    "                # remove null index records\n",
    "            except TypeError as err:\n",
    "                print('there was a type err')\n",
    "                continue    \n",
    "        try:\n",
    "            if this['Index'] != '':\n",
    "                data.append(this)\n",
    "        except KeyError as err:\n",
    "            continue\n",
    "\n",
    "    # get field names\n",
    "    field_names = []\n",
    "    for row in data:\n",
    "        for key in row.keys():\n",
    "            if key in field_names:\n",
    "                continue\n",
    "            else:\n",
    "                field_names.append(key)\n",
    "\n",
    "    # add keys if not existing in data\n",
    "    for row in data:\n",
    "        for key in field_names:\n",
    "            if key not in row:\n",
    "                row[key] = ''    \n",
    "    return data, field_names"
   ]
  },
  {
   "cell_type": "code",
   "execution_count": 4,
   "metadata": {},
   "outputs": [],
   "source": [
    "def save_data(data, fieldnames):\n",
    "    \"\"\"Save data\"\"\"\n",
    "    today = datetime.today().strftime('%Y%m%d')\n",
    "    filename = 'LCA_' + today + '.csv'\n",
    "    with open(filename, 'a+', newline='', encoding='utf-8') as f:\n",
    "        writer = csv.DictWriter(f, fieldnames = field_names)\n",
    "        writer.writeheader()\n",
    "        for row in data:\n",
    "            writer.writerow(row)"
   ]
  },
  {
   "cell_type": "markdown",
   "metadata": {},
   "source": [
    "### Extract and process the data"
   ]
  },
  {
   "cell_type": "code",
   "execution_count": 5,
   "metadata": {},
   "outputs": [],
   "source": [
    "# extract and save all data\n",
    "for url in urls:\n",
    "    data, field_names = extract_data(url)\n",
    "    if data:\n",
    "        save_data(data, field_names)"
   ]
  }
 ],
 "metadata": {
  "kernelspec": {
   "display_name": "Python 3",
   "language": "python",
   "name": "python3"
  },
  "language_info": {
   "codemirror_mode": {
    "name": "ipython",
    "version": 3
   },
   "file_extension": ".py",
   "mimetype": "text/x-python",
   "name": "python",
   "nbconvert_exporter": "python",
   "pygments_lexer": "ipython3",
   "version": "3.8.3"
  }
 },
 "nbformat": 4,
 "nbformat_minor": 4
}
